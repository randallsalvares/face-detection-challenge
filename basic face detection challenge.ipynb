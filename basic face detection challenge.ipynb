{
 "cells": [
  {
   "cell_type": "code",
   "execution_count": 20,
   "metadata": {},
   "outputs": [],
   "source": [
    "import numpy as np\n",
    "import cv2\n",
    "import sys\n",
    "import pandas as pd"
   ]
  },
  {
   "cell_type": "code",
   "execution_count": 21,
   "metadata": {},
   "outputs": [],
   "source": [
    "cascPath = \"haarcascade_frontalface_default.xml\""
   ]
  },
  {
   "cell_type": "code",
   "execution_count": 22,
   "metadata": {},
   "outputs": [],
   "source": [
    "# Create the haar cascade\n",
    "faceCascade = cv2.CascadeClassifier(cascPath)"
   ]
  },
  {
   "cell_type": "code",
   "execution_count": 23,
   "metadata": {},
   "outputs": [],
   "source": [
    "# Load an color image in grayscale\n",
    "image = cv2.imread(r'C:\\Users\\User\\Desktop\\New folder\\image2.jpeg')\n"
   ]
  },
  {
   "cell_type": "code",
   "execution_count": 24,
   "metadata": {},
   "outputs": [],
   "source": [
    "cv2.imshow('image',image)\n",
    "cv2.waitKey(0)\n",
    "cv2.destroyAllWindows()"
   ]
  },
  {
   "cell_type": "code",
   "execution_count": 26,
   "metadata": {},
   "outputs": [],
   "source": [
    "# Detect faces in the image\n",
    "faces = faceCascade.detectMultiScale(\n",
    "    image,\n",
    "    scaleFactor=1.1,\n",
    "    minNeighbors=5,\n",
    "    minSize=(30, 30),\n",
    "    flags = cv2.CASCADE_SCALE_IMAGE\n",
    "    )"
   ]
  },
  {
   "cell_type": "code",
   "execution_count": 27,
   "metadata": {},
   "outputs": [
    {
     "data": {
      "text/plain": [
       "array([[521, 120,  52,  52],\n",
       "       [126, 533,  39,  39],\n",
       "       [234, 120,  42,  42],\n",
       "       [ 13,  31,  58,  58],\n",
       "       [410,  31,  57,  57],\n",
       "       [521,  36,  56,  56],\n",
       "       [512, 530,  59,  59],\n",
       "       [121, 132,  60,  60],\n",
       "       [716, 112,  68,  68],\n",
       "       [419, 516,  60,  60],\n",
       "       [326, 518,  49,  49],\n",
       "       [727, 519,  48,  48],\n",
       "       [708,  10,  71,  71],\n",
       "       [608, 110,  71,  71],\n",
       "       [620, 399,  70,  70],\n",
       "       [320, 235,  57,  57],\n",
       "       [720, 232,  61,  61],\n",
       "       [626, 328,  46,  46],\n",
       "       [120, 300,  70,  70]], dtype=int32)"
      ]
     },
     "execution_count": 27,
     "metadata": {},
     "output_type": "execute_result"
    }
   ],
   "source": [
    "faces"
   ]
  },
  {
   "cell_type": "code",
   "execution_count": 28,
   "metadata": {},
   "outputs": [
    {
     "name": "stdout",
     "output_type": "stream",
     "text": [
      "Found 19 faces!\n"
     ]
    }
   ],
   "source": [
    "print(\"Found {0} faces!\".format(len(faces)))"
   ]
  },
  {
   "cell_type": "code",
   "execution_count": 29,
   "metadata": {},
   "outputs": [],
   "source": [
    "# Draw a rectangle around the faces\n",
    "for (x, y, w, h) in faces:\n",
    "    cv2.rectangle(image, (x, y), (x+w, y+h), (0, 255, 0), 2)"
   ]
  },
  {
   "cell_type": "code",
   "execution_count": 30,
   "metadata": {},
   "outputs": [],
   "source": [
    "cv2.imshow(\"Faces found\", image)\n",
    "cv2.waitKey(0)\n",
    "cv2.destroyAllWindows()"
   ]
  },
  {
   "cell_type": "code",
   "execution_count": 31,
   "metadata": {},
   "outputs": [],
   "source": [
    "col_1 = np.array(faces[:,0])\n",
    "col_2 = np.array(faces[:,1])\n",
    "    \n",
    "        "
   ]
  },
  {
   "cell_type": "code",
   "execution_count": 32,
   "metadata": {},
   "outputs": [
    {
     "data": {
      "text/plain": [
       "array([521, 126, 234,  13, 410, 521, 512, 121, 716, 419, 326, 727, 708,\n",
       "       608, 620, 320, 720, 626, 120], dtype=int32)"
      ]
     },
     "execution_count": 32,
     "metadata": {},
     "output_type": "execute_result"
    }
   ],
   "source": [
    "col_1"
   ]
  },
  {
   "cell_type": "code",
   "execution_count": 33,
   "metadata": {},
   "outputs": [
    {
     "data": {
      "text/plain": [
       "array([120, 533, 120,  31,  31,  36, 530, 132, 112, 516, 518, 519,  10,\n",
       "       110, 399, 235, 232, 328, 300], dtype=int32)"
      ]
     },
     "execution_count": 33,
     "metadata": {},
     "output_type": "execute_result"
    }
   ],
   "source": [
    "col_2"
   ]
  },
  {
   "cell_type": "code",
   "execution_count": 34,
   "metadata": {},
   "outputs": [],
   "source": [
    "#new_col = []\n",
    "#for l in range(len(faces)):\n",
    "    #new_col.append(col_1[l]+col_2[l])\n",
    "    \n",
    "#new_col\n",
    "    "
   ]
  },
  {
   "cell_type": "code",
   "execution_count": 35,
   "metadata": {},
   "outputs": [],
   "source": [
    "sub_list = []\n",
    "for l in range(len(faces)):\n",
    "    if (col_1[l]<=100) & (col_2[l]<=100):\n",
    "        sub_list.append([0,0])\n",
    "    elif (col_1[l]<=100) & (col_2[l]<=200):\n",
    "        sub_list.append([0,1])\n",
    "    elif (col_1[l]<=100) & (col_2[l]<=300):\n",
    "        sub_list.append([0,2])\n",
    "    elif (col_1[l]<=100) & (col_2[l]<=400):\n",
    "        sub_list.append([0,3])\n",
    "    elif (col_1[l]<=100) & (col_2[l]<=500):\n",
    "        sub_list.append([0,4])\n",
    "    elif (col_1[l]<=100) & (col_2[l]<=600):\n",
    "        sub_list.append([0,5])\n",
    "    elif (col_1[l]<=100) & (col_2[l]<=700):\n",
    "        sub_list.append([0,6])\n",
    "    elif (col_1[l]<=100) & (col_2[l]<=800):\n",
    "        sub_list.append([0,7])\n",
    "    elif (col_1[l]<=200) & (col_2[l]<=100):\n",
    "        sub_list.append([1,0])\n",
    "    elif (col_1[l]<=300) & (col_2[l]<=100):\n",
    "        sub_list.append([2,0])\n",
    "    elif (col_1[l]<=400) & (col_2[l]<=100):\n",
    "        sub_list.append([3,0])\n",
    "    elif (col_1[l]<=500) & (col_2[l]<=100):\n",
    "        sub_list.append([4,0])\n",
    "    elif (col_1[l]<=600) & (col_2[l]<=100):\n",
    "        sub_list.append([5,0])\n",
    "    elif (col_1[l]<=700) & (col_2[l]<=100):\n",
    "        sub_list.append([6,0])\n",
    "    elif (col_1[l]<=800) & (col_2[l]<=100):\n",
    "        sub_list.append([7,0])\n",
    "    elif (col_1[l]<=200) & (col_2[l]<=200):\n",
    "        sub_list.append([1,1])\n",
    "    elif (col_1[l]<=300) & (col_2[l]<=200):\n",
    "        sub_list.append([2,1])\n",
    "    elif (col_1[l]<=400) & (col_2[l]<=200):\n",
    "        sub_list.append([3,1])\n",
    "    elif (col_1[l]<=500) & (col_2[l]<=200):\n",
    "        sub_list.append([4,1])\n",
    "    elif (col_1[l]<=600) & (col_2[l]<=200):\n",
    "        sub_list.append([5,1])\n",
    "    elif (col_1[l]<=700) & (col_2[l]<=200):\n",
    "        sub_list.append([6,1])\n",
    "    elif (col_1[l]<=800) & (col_2[l]<=200):\n",
    "        sub_list.append([7,1])\n",
    "    elif (col_1[l]<=200) & (col_2[l]<=300):\n",
    "        sub_list.append([1,2])\n",
    "    elif (col_1[l]<=300) & (col_2[l]<=300):\n",
    "        sub_list.append([2,2])\n",
    "    elif (col_1[l]<=400) & (col_2[l]<=300):\n",
    "        sub_list.append([3,2])\n",
    "    elif (col_1[l]<=500) & (col_2[l]<=300):\n",
    "        sub_list.append([4,2])\n",
    "    elif (col_1[l]<=600) & (col_2[l]<=300):\n",
    "        sub_list.append([5,2])\n",
    "    elif (col_1[l]<=700) & (col_2[l]<=300):\n",
    "        sub_list.append([6,2])\n",
    "    elif (col_1[l]<=800) & (col_2[l]<=300):\n",
    "        sub_list.append([7,2])\n",
    "    elif (col_1[l]<=200) & (col_2[l]<=400):\n",
    "        sub_list.append([1,3])\n",
    "    elif (col_1[l]<=300) & (col_2[l]<=400):\n",
    "        sub_list.append([2,3])\n",
    "    elif (col_1[l]<=400) & (col_2[l]<=400):\n",
    "        sub_list.append([3,3])\n",
    "    elif (col_1[l]<=500) & (col_2[l]<=400):\n",
    "        sub_list.append([4,3])\n",
    "    elif (col_1[l]<=600) & (col_2[l]<=400):\n",
    "        sub_list.append([5,3])\n",
    "    elif (col_1[l]<=700) & (col_2[l]<=400):\n",
    "        sub_list.append([6,3])\n",
    "    elif (col_1[l]<=800) & (col_2[l]<=400):\n",
    "        sub_list.append([7,3])\n",
    "    elif (col_1[l]<=200) & (col_2[l]<=500):\n",
    "        sub_list.append([1,4])\n",
    "    elif (col_1[l]<=300) & (col_2[l]<=500):\n",
    "        sub_list.append([2,4])\n",
    "    elif (col_1[l]<=400) & (col_2[l]<=500):\n",
    "        sub_list.append([3,4])\n",
    "    elif (col_1[l]<=500) & (col_2[l]<=500):\n",
    "        sub_list.append([4,4])\n",
    "    elif (col_1[l]<=600) & (col_2[l]<=500):\n",
    "        sub_list.append([5,4])\n",
    "    elif (col_1[l]<=700) & (col_2[l]<=500):\n",
    "        sub_list.append([6,4])\n",
    "    elif (col_1[l]<=800) & (col_2[l]<=500):\n",
    "        sub_list.append([7,4])\n",
    "    elif (col_1[l]<=200) & (col_2[l]<=600):\n",
    "        sub_list.append([1,5])\n",
    "    elif (col_1[l]<=300) & (col_2[l]<=600):\n",
    "        sub_list.append([2,5])\n",
    "    elif (col_1[l]<=400) & (col_2[l]<=600):\n",
    "        sub_list.append([3,5])\n",
    "    elif (col_1[l]<=500) & (col_2[l]<=600):\n",
    "        sub_list.append([4,5])\n",
    "    elif (col_1[l]<=600) & (col_2[l]<=600):\n",
    "        sub_list.append([5,5])\n",
    "    elif (col_1[l]<=700) & (col_2[l]<=600):\n",
    "        sub_list.append([6,5])\n",
    "    elif (col_1[l]<=800) & (col_2[l]<=600):\n",
    "        sub_list.append([7,5])\n",
    "    elif (col_1[l]<=200) & (col_2[l]<=700):\n",
    "        sub_list.append([1,6])\n",
    "    elif (col_1[l]<=300) & (col_2[l]<=700):\n",
    "        sub_list.append([2,6])\n",
    "    elif (col_1[l]<=400) & (col_2[l]<=700):\n",
    "        sub_list.append([3,6])\n",
    "    elif (col_1[l]<=500) & (col_2[l]<=700):\n",
    "        sub_list.append([4,6])\n",
    "    elif (col_1[l]<=600) & (col_2[l]<=700):\n",
    "        sub_list.append([5,6])\n",
    "    elif (col_1[l]<=700) & (col_2[l]<=700):\n",
    "        sub_list.append([6,6])\n",
    "    elif (col_1[l]<=800) & (col_2[l]<=700):\n",
    "        sub_list.append([7,6])\n",
    "    elif (col_1[l]<=200) & (col_2[l]<=800):\n",
    "        sub_list.append([1,7])\n",
    "    elif (col_1[l]<=300) & (col_2[l]<=800):\n",
    "        sub_list.append([2,7])\n",
    "    elif (col_1[l]<=400) & (col_2[l]<=800):\n",
    "        sub_list.append([3,7])\n",
    "    elif (col_1[l]<=500) & (col_2[l]<=800):\n",
    "        sub_list.append([4,7])\n",
    "    elif (col_1[l]<=600) & (col_2[l]<=800):\n",
    "        sub_list.append([5,7])\n",
    "    elif (col_1[l]<=700) & (col_2[l]<=800):\n",
    "        sub_list.append([6,7])\n",
    "    elif (col_1[l]<=800) & (col_2[l]<=800):\n",
    "        sub_list.append([7,7])"
   ]
  },
  {
   "cell_type": "code",
   "execution_count": 36,
   "metadata": {},
   "outputs": [],
   "source": [
    "face_tiles = sub_list"
   ]
  },
  {
   "cell_type": "code",
   "execution_count": 37,
   "metadata": {},
   "outputs": [
    {
     "data": {
      "text/plain": [
       "[[5, 1],\n",
       " [1, 5],\n",
       " [2, 1],\n",
       " [0, 0],\n",
       " [4, 0],\n",
       " [5, 0],\n",
       " [5, 5],\n",
       " [1, 1],\n",
       " [7, 1],\n",
       " [4, 5],\n",
       " [3, 5],\n",
       " [7, 5],\n",
       " [7, 0],\n",
       " [6, 1],\n",
       " [6, 3],\n",
       " [3, 2],\n",
       " [7, 2],\n",
       " [6, 3],\n",
       " [1, 2]]"
      ]
     },
     "execution_count": 37,
     "metadata": {},
     "output_type": "execute_result"
    }
   ],
   "source": [
    "face_tiles"
   ]
  },
  {
   "cell_type": "code",
   "execution_count": null,
   "metadata": {},
   "outputs": [],
   "source": []
  }
 ],
 "metadata": {
  "kernelspec": {
   "display_name": "Python 3",
   "language": "python",
   "name": "python3"
  },
  "language_info": {
   "codemirror_mode": {
    "name": "ipython",
    "version": 3
   },
   "file_extension": ".py",
   "mimetype": "text/x-python",
   "name": "python",
   "nbconvert_exporter": "python",
   "pygments_lexer": "ipython3",
   "version": "3.7.3"
  }
 },
 "nbformat": 4,
 "nbformat_minor": 2
}
